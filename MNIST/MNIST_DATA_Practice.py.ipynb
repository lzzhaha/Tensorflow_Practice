{
 "cells": [
  {
   "cell_type": "code",
   "execution_count": null,
   "metadata": {
    "collapsed": true
   },
   "outputs": [],
   "source": [
    "import time\n",
    "import numpy as np\n",
    "import tensorflow as tf\n",
    "from tensorflow.examples.tutorials.mnist import input_data\n",
    "\n",
    "MNIST = input_data.read_data_sets(\"/data/mnist\", one_hot=True)\n",
    "\n",
    "\n",
    "batch_size = 128\n",
    "n_epochs = 50\n",
    "\n",
    "\n",
    "X = tf.place_holder(tf.float32, [batch_size, 784])\n",
    "Y = tf.place_holder(tf.float32, [batch_size, 10])\n",
    "\n",
    "\n",
    "W = tf.Variable(tf.random_normal(shape=[784, 10], stddev=0.01), name=\"weights\")\n",
    "b = tf.Variable(tf.zeros([1,10]), name=\"bias\")\n",
    "\n",
    "\n",
    "logits = tf.matmul(X, W) + b\n",
    "\n",
    "entropy = tf.nn.softmax_cross_entropy_with_logits(logits, Y)\n",
    "loss = tf.reduce_mean(entropy)\n",
    "\n",
    "\n",
    "optimizer = tf.train.GradientDescentOptimizer(learning_rate=0.001).minimize(loss)\n",
    "\n",
    "\n",
    "sess = tf.Session()\n",
    "\n",
    "sess.run(tf.global_variables_initializer())\n",
    "\n",
    "n_batches = int(MNITS.train.num_examples/batch_size)\n",
    "\n",
    "for i in range(n_batches):\n",
    "    X_batch, Y_batch = MNIST.train.next_batch(batch_size)\n",
    "    sess.run([optimizer, loss], feed_dict={X: X_batch, Y: Y_batch})"
   ]
  }
 ],
 "metadata": {
  "kernelspec": {
   "display_name": "Python 3",
   "language": "python",
   "name": "python3"
  },
  "language_info": {
   "codemirror_mode": {
    "name": "ipython",
    "version": 3
   },
   "file_extension": ".py",
   "mimetype": "text/x-python",
   "name": "python",
   "nbconvert_exporter": "python",
   "pygments_lexer": "ipython3",
   "version": "3.6.2"
  }
 },
 "nbformat": 4,
 "nbformat_minor": 2
}
