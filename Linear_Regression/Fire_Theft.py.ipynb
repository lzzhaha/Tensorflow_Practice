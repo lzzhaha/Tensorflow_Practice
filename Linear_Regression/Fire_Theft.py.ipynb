{
 "cells": [
  {
   "cell_type": "code",
   "execution_count": null,
   "metadata": {
    "collapsed": true
   },
   "outputs": [],
   "source": [
    "import numpy as np \n",
    "import matplotlib.pyplot as plt\n",
    "import tensorflow as tf\n",
    "import xlrd\n",
    "\n",
    "#Excel data preprocessing\n",
    "DATA_FILE = \"slr05.xls\"\n",
    "\n",
    "book = xlrd.open_workbook(DATA_FILE, encoding_override=\"utf-8\")\n",
    "\n",
    "sheet = book.sheet_by_index(0)\n",
    "\n",
    "data = np.asarray(sheet.row_values(i) for i in range(1, sheet.nrows))\n",
    "\n",
    "n_samples = sheet.nrows - 1\n",
    "\n",
    "\n",
    "#Set X as number of fires and Y as number of thefts\n",
    "X = tf.placeholder(tf.float32, name=\"fires\")\n",
    "\n",
    "Y = tf.placeholder(tf.float32, name=\"thefts\") \n",
    "\n",
    "\n",
    "#Set W as weight and b as bias\n",
    "W = tf.Variable(0.0, name=\"weights\")\n",
    "b = tf.Variable(0.0, name=\"bias\")\n",
    "\n",
    "\n",
    "#set hypothesis\n",
    "hypothesis = W * X + b\n",
    "\n",
    "#construct loss function\n",
    "loss = tf.square(hypothesis - Y， name=\"loss\")\n",
    "\n",
    "optimizer = tf.train.GradientDescentOptimizer(learning_rate=0.01).minimize(loss)\n",
    "\n",
    "\n",
    "sess = tf.Session()\n",
    "\n",
    "#run 200 epochs\n",
    "sess.run(tf.global_variables_initializer())\n",
    "    for x, y in data:\n",
    "        sess.run(optimizer, feed_dict={X: x, Y: y})\n",
    "        \n",
    "        \n",
    "W_val, b_val = sess.run([W, b])"
   ]
  }
 ],
 "metadata": {
  "kernelspec": {
   "display_name": "Python 3",
   "language": "python",
   "name": "python3"
  },
  "language_info": {
   "codemirror_mode": {
    "name": "ipython",
    "version": 3
   },
   "file_extension": ".py",
   "mimetype": "text/x-python",
   "name": "python",
   "nbconvert_exporter": "python",
   "pygments_lexer": "ipython3",
   "version": "3.6.2"
  }
 },
 "nbformat": 4,
 "nbformat_minor": 2
}
